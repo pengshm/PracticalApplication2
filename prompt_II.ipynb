{
  "metadata": {
    "kernelspec": {
      "name": "python",
      "display_name": "Python (Pyodide)",
      "language": "python"
    },
    "language_info": {
      "codemirror_mode": {
        "name": "python",
        "version": 3
      },
      "file_extension": ".py",
      "mimetype": "text/x-python",
      "name": "python",
      "nbconvert_exporter": "python",
      "pygments_lexer": "ipython3",
      "version": "3.8"
    },
    "widgets": {
      "application/vnd.jupyter.widget-state+json": {
        "state": {},
        "version_major": 2,
        "version_minor": 0
      }
    }
  },
  "nbformat_minor": 4,
  "nbformat": 4,
  "cells": [
    {
      "cell_type": "markdown",
      "source": "# What drives the price of a car?\n\n![](images/kurt.jpeg)",
      "metadata": {}
    },
    {
      "cell_type": "markdown",
      "source": "**OVERVIEW**\n\nIn this application, you will explore a dataset from Kaggle. The original dataset contained information on 3 million used cars. The provided dataset contains information on 426K cars to ensure speed of processing.  Your goal is to understand what factors make a car more or less expensive.  As a result of your analysis, you should provide clear recommendations to your client -- a used car dealership -- as to what consumers value in a used car.",
      "metadata": {}
    },
    {
      "cell_type": "markdown",
      "source": "### CRISP-DM Framework\n\n<center>\n    <img src = images/crisp.png width = 50%/>\n</center>\n\n\nTo frame the task, throughout our practical applications, we will refer back to a standard process in industry for data projects called CRISP-DM.  This process provides a framework for working through a data problem.  Your first step in this application will be to read through a brief overview of CRISP-DM [here](https://mo-pcco.s3.us-east-1.amazonaws.com/BH-PCMLAI/module_11/readings_starter.zip).  After reading the overview, answer the questions below.",
      "metadata": {}
    },
    {
      "cell_type": "markdown",
      "source": "### Business Understanding\n\nFrom a business perspective, we are tasked with identifying key drivers for used car prices.  In the CRISP-DM overview, we are asked to convert this business framing to a data problem definition.  Using a few sentences, reframe the task as a data task with the appropriate technical vocabulary. ",
      "metadata": {}
    },
    {
      "cell_type": "code",
      "source": "%pip install seaborn\n%pip install plotly\nimport matplotlib.pyplot as plt\nimport seaborn as sns\nimport pandas as pd\nimport numpy as np\nfrom sklearn.linear_model import LinearRegression\nfrom sklearn.metrics import mean_squared_error",
      "metadata": {
        "trusted": true
      },
      "outputs": [
        {
          "name": "stderr",
          "output_type": "stream",
          "text": "Matplotlib is building the font cache; this may take a moment.\n"
        }
      ],
      "execution_count": 3
    },
    {
      "cell_type": "code",
      "source": "data = pd.read_csv('data/vehicles.csv')",
      "metadata": {
        "trusted": true
      },
      "outputs": [],
      "execution_count": 4
    },
    {
      "cell_type": "markdown",
      "source": "### Data Understanding\n\nAfter considering the business understanding, we want to get familiar with our data.  Write down some steps that you would take to get to know the dataset and identify any quality issues within.  Take time to get to know the dataset and explore what information it contains and how this could be used to inform your business understanding.",
      "metadata": {}
    },
    {
      "cell_type": "markdown",
      "source": "### 1, Check the dimention of the data",
      "metadata": {}
    },
    {
      "cell_type": "code",
      "source": "data.shape",
      "metadata": {
        "trusted": true
      },
      "outputs": [
        {
          "execution_count": 5,
          "output_type": "execute_result",
          "data": {
            "text/plain": "(426880, 18)"
          },
          "metadata": {}
        }
      ],
      "execution_count": 5
    },
    {
      "cell_type": "code",
      "source": "data.head()",
      "metadata": {
        "trusted": true
      },
      "outputs": [
        {
          "execution_count": 6,
          "output_type": "execute_result",
          "data": {
            "text/plain": "           id                  region  price  year manufacturer model  \\\n0  7222695916                prescott   6000   NaN          NaN   NaN   \n1  7218891961            fayetteville  11900   NaN          NaN   NaN   \n2  7221797935            florida keys  21000   NaN          NaN   NaN   \n3  7222270760  worcester / central MA   1500   NaN          NaN   NaN   \n4  7210384030              greensboro   4900   NaN          NaN   NaN   \n\n  condition cylinders fuel  odometer title_status transmission  VIN drive  \\\n0       NaN       NaN  NaN       NaN          NaN          NaN  NaN   NaN   \n1       NaN       NaN  NaN       NaN          NaN          NaN  NaN   NaN   \n2       NaN       NaN  NaN       NaN          NaN          NaN  NaN   NaN   \n3       NaN       NaN  NaN       NaN          NaN          NaN  NaN   NaN   \n4       NaN       NaN  NaN       NaN          NaN          NaN  NaN   NaN   \n\n  size type paint_color state  \n0  NaN  NaN         NaN    az  \n1  NaN  NaN         NaN    ar  \n2  NaN  NaN         NaN    fl  \n3  NaN  NaN         NaN    ma  \n4  NaN  NaN         NaN    nc  ",
            "text/html": "<div>\n<style scoped>\n    .dataframe tbody tr th:only-of-type {\n        vertical-align: middle;\n    }\n\n    .dataframe tbody tr th {\n        vertical-align: top;\n    }\n\n    .dataframe thead th {\n        text-align: right;\n    }\n</style>\n<table border=\"1\" class=\"dataframe\">\n  <thead>\n    <tr style=\"text-align: right;\">\n      <th></th>\n      <th>id</th>\n      <th>region</th>\n      <th>price</th>\n      <th>year</th>\n      <th>manufacturer</th>\n      <th>model</th>\n      <th>condition</th>\n      <th>cylinders</th>\n      <th>fuel</th>\n      <th>odometer</th>\n      <th>title_status</th>\n      <th>transmission</th>\n      <th>VIN</th>\n      <th>drive</th>\n      <th>size</th>\n      <th>type</th>\n      <th>paint_color</th>\n      <th>state</th>\n    </tr>\n  </thead>\n  <tbody>\n    <tr>\n      <th>0</th>\n      <td>7222695916</td>\n      <td>prescott</td>\n      <td>6000</td>\n      <td>NaN</td>\n      <td>NaN</td>\n      <td>NaN</td>\n      <td>NaN</td>\n      <td>NaN</td>\n      <td>NaN</td>\n      <td>NaN</td>\n      <td>NaN</td>\n      <td>NaN</td>\n      <td>NaN</td>\n      <td>NaN</td>\n      <td>NaN</td>\n      <td>NaN</td>\n      <td>NaN</td>\n      <td>az</td>\n    </tr>\n    <tr>\n      <th>1</th>\n      <td>7218891961</td>\n      <td>fayetteville</td>\n      <td>11900</td>\n      <td>NaN</td>\n      <td>NaN</td>\n      <td>NaN</td>\n      <td>NaN</td>\n      <td>NaN</td>\n      <td>NaN</td>\n      <td>NaN</td>\n      <td>NaN</td>\n      <td>NaN</td>\n      <td>NaN</td>\n      <td>NaN</td>\n      <td>NaN</td>\n      <td>NaN</td>\n      <td>NaN</td>\n      <td>ar</td>\n    </tr>\n    <tr>\n      <th>2</th>\n      <td>7221797935</td>\n      <td>florida keys</td>\n      <td>21000</td>\n      <td>NaN</td>\n      <td>NaN</td>\n      <td>NaN</td>\n      <td>NaN</td>\n      <td>NaN</td>\n      <td>NaN</td>\n      <td>NaN</td>\n      <td>NaN</td>\n      <td>NaN</td>\n      <td>NaN</td>\n      <td>NaN</td>\n      <td>NaN</td>\n      <td>NaN</td>\n      <td>NaN</td>\n      <td>fl</td>\n    </tr>\n    <tr>\n      <th>3</th>\n      <td>7222270760</td>\n      <td>worcester / central MA</td>\n      <td>1500</td>\n      <td>NaN</td>\n      <td>NaN</td>\n      <td>NaN</td>\n      <td>NaN</td>\n      <td>NaN</td>\n      <td>NaN</td>\n      <td>NaN</td>\n      <td>NaN</td>\n      <td>NaN</td>\n      <td>NaN</td>\n      <td>NaN</td>\n      <td>NaN</td>\n      <td>NaN</td>\n      <td>NaN</td>\n      <td>ma</td>\n    </tr>\n    <tr>\n      <th>4</th>\n      <td>7210384030</td>\n      <td>greensboro</td>\n      <td>4900</td>\n      <td>NaN</td>\n      <td>NaN</td>\n      <td>NaN</td>\n      <td>NaN</td>\n      <td>NaN</td>\n      <td>NaN</td>\n      <td>NaN</td>\n      <td>NaN</td>\n      <td>NaN</td>\n      <td>NaN</td>\n      <td>NaN</td>\n      <td>NaN</td>\n      <td>NaN</td>\n      <td>NaN</td>\n      <td>nc</td>\n    </tr>\n  </tbody>\n</table>\n</div>"
          },
          "metadata": {}
        }
      ],
      "execution_count": 6
    },
    {
      "cell_type": "code",
      "source": "data.describe()",
      "metadata": {
        "trusted": true
      },
      "outputs": [
        {
          "execution_count": 7,
          "output_type": "execute_result",
          "data": {
            "text/plain": "                 id         price           year      odometer\ncount  4.268800e+05  4.268800e+05  425675.000000  4.224800e+05\nmean   7.311487e+09  7.519903e+04    2011.235191  9.804333e+04\nstd    4.473170e+06  1.218228e+07       9.452120  2.138815e+05\nmin    7.207408e+09  0.000000e+00    1900.000000  0.000000e+00\n25%    7.308143e+09  5.900000e+03    2008.000000  3.770400e+04\n50%    7.312621e+09  1.395000e+04    2013.000000  8.554800e+04\n75%    7.315254e+09  2.648575e+04    2017.000000  1.335425e+05\nmax    7.317101e+09  3.736929e+09    2022.000000  1.000000e+07",
            "text/html": "<div>\n<style scoped>\n    .dataframe tbody tr th:only-of-type {\n        vertical-align: middle;\n    }\n\n    .dataframe tbody tr th {\n        vertical-align: top;\n    }\n\n    .dataframe thead th {\n        text-align: right;\n    }\n</style>\n<table border=\"1\" class=\"dataframe\">\n  <thead>\n    <tr style=\"text-align: right;\">\n      <th></th>\n      <th>id</th>\n      <th>price</th>\n      <th>year</th>\n      <th>odometer</th>\n    </tr>\n  </thead>\n  <tbody>\n    <tr>\n      <th>count</th>\n      <td>4.268800e+05</td>\n      <td>4.268800e+05</td>\n      <td>425675.000000</td>\n      <td>4.224800e+05</td>\n    </tr>\n    <tr>\n      <th>mean</th>\n      <td>7.311487e+09</td>\n      <td>7.519903e+04</td>\n      <td>2011.235191</td>\n      <td>9.804333e+04</td>\n    </tr>\n    <tr>\n      <th>std</th>\n      <td>4.473170e+06</td>\n      <td>1.218228e+07</td>\n      <td>9.452120</td>\n      <td>2.138815e+05</td>\n    </tr>\n    <tr>\n      <th>min</th>\n      <td>7.207408e+09</td>\n      <td>0.000000e+00</td>\n      <td>1900.000000</td>\n      <td>0.000000e+00</td>\n    </tr>\n    <tr>\n      <th>25%</th>\n      <td>7.308143e+09</td>\n      <td>5.900000e+03</td>\n      <td>2008.000000</td>\n      <td>3.770400e+04</td>\n    </tr>\n    <tr>\n      <th>50%</th>\n      <td>7.312621e+09</td>\n      <td>1.395000e+04</td>\n      <td>2013.000000</td>\n      <td>8.554800e+04</td>\n    </tr>\n    <tr>\n      <th>75%</th>\n      <td>7.315254e+09</td>\n      <td>2.648575e+04</td>\n      <td>2017.000000</td>\n      <td>1.335425e+05</td>\n    </tr>\n    <tr>\n      <th>max</th>\n      <td>7.317101e+09</td>\n      <td>3.736929e+09</td>\n      <td>2022.000000</td>\n      <td>1.000000e+07</td>\n    </tr>\n  </tbody>\n</table>\n</div>"
          },
          "metadata": {}
        }
      ],
      "execution_count": 7
    },
    {
      "cell_type": "markdown",
      "source": "### 2, Check the null value",
      "metadata": {}
    },
    {
      "cell_type": "code",
      "source": "data.isnull().sum()",
      "metadata": {
        "trusted": true
      },
      "outputs": [
        {
          "execution_count": 8,
          "output_type": "execute_result",
          "data": {
            "text/plain": "id                   0\nregion               0\nprice                0\nyear              1205\nmanufacturer     17646\nmodel             5277\ncondition       174104\ncylinders       177678\nfuel              3013\nodometer          4400\ntitle_status      8242\ntransmission      2556\nVIN             161042\ndrive           130567\nsize            306361\ntype             92858\npaint_color     130203\nstate                0\ndtype: int64"
          },
          "metadata": {}
        }
      ],
      "execution_count": 8
    },
    {
      "cell_type": "code",
      "source": "data.isnull().sum().sort_values().plot(kind  = 'bar')",
      "metadata": {
        "trusted": true
      },
      "outputs": [
        {
          "execution_count": 9,
          "output_type": "execute_result",
          "data": {
            "text/plain": "<Axes: >"
          },
          "metadata": {}
        },
        {
          "output_type": "display_data",
          "data": {
            "text/plain": "<Figure size 640x480 with 1 Axes>",
            "image/png": "[encoded data removed]"
          },
          "metadata": {}
        }
      ],
      "execution_count": 9
    },
    {
      "cell_type": "markdown",
      "source": "### Data Preparation\n\nAfter our initial exploration and fine-tuning of the business understanding, it is time to construct our final dataset prior to modeling.  Here, we want to make sure to handle any integrity issues and cleaning, the engineering of new features, any transformations that we believe should happen (scaling, logarithms, normalization, etc.), and general preparation for modeling with `sklearn`. ",
      "metadata": {}
    },
    {
      "cell_type": "markdown",
      "source": "### 2, Drop columns with too many nulls",
      "metadata": {}
    },
    {
      "cell_type": "code",
      "source": "missing_pct = data.isna().mean()\nhigh_null_cols = missing_pct[missing_pct > 0.50].index.tolist() # remove rows with missing value > 50% \nid_like_cols = [c for c in [\"VIN\", \"id\", \"url\"] if c in data.columns]\ncols_to_drop = sorted(list(set(high_null_cols + id_like_cols)))\ndata = data.drop(columns=cols_to_drop, errors=\"ignore\")\ndata.shape[0]",
      "metadata": {
        "trusted": true
      },
      "outputs": [
        {
          "execution_count": 10,
          "output_type": "execute_result",
          "data": {
            "text/plain": "426880"
          },
          "metadata": {}
        }
      ],
      "execution_count": 10
    },
    {
      "cell_type": "markdown",
      "source": "### 3, Standardize text(lowercase)",
      "metadata": {}
    },
    {
      "cell_type": "code",
      "source": "obj_cols = data.select_dtypes(include=[\"object\"]).columns\nfor c in obj_cols:\n    data[c] = data[c].astype(str).str.strip().str.lower().replace({\"nan\": np.nan})",
      "metadata": {
        "trusted": true
      },
      "outputs": [],
      "execution_count": 11
    },
    {
      "cell_type": "markdown",
      "source": "### 4, Remove duplicates",
      "metadata": {}
    },
    {
      "cell_type": "code",
      "source": "data = data.drop_duplicates()\ndata.shape[0]",
      "metadata": {
        "trusted": true
      },
      "outputs": [
        {
          "execution_count": 12,
          "output_type": "execute_result",
          "data": {
            "text/plain": "370382"
          },
          "metadata": {}
        }
      ],
      "execution_count": 12
    },
    {
      "cell_type": "markdown",
      "source": "### 5, Drop the rows when important value missing",
      "metadata": {}
    },
    {
      "cell_type": "code",
      "source": "important_fields = [c for c in [\"price\", \"year\", \"odometer\",\"fuel\"] if c in data.columns]\n#If any of the critical_fields columns has a missing value in a row → that row gets deleted.\nif important_fields:\n    data = data.dropna(subset=important_fields)\ndata.shape[0]",
      "metadata": {
        "trusted": true
      },
      "outputs": [
        {
          "execution_count": 13,
          "output_type": "execute_result",
          "data": {
            "text/plain": "364271"
          },
          "metadata": {}
        }
      ],
      "execution_count": 13
    },
    {
      "cell_type": "markdown",
      "source": "### 6, Add unknown when some categorical columns missing ",
      "metadata": {}
    },
    {
      "cell_type": "code",
      "source": "'''\ncat_cols = data.select_dtypes(exclude=[np.number]).columns\n\nfor c in cat_cols:\n    if data[c].isna().any():\n        data[c] = data[c].fillna(\"unknown\")\n'''",
      "metadata": {
        "trusted": true
      },
      "outputs": [],
      "execution_count": 13
    },
    {
      "cell_type": "code",
      "source": "data[\"title_status\"].nunique()",
      "metadata": {
        "trusted": true
      },
      "outputs": [
        {
          "execution_count": 14,
          "output_type": "execute_result",
          "data": {
            "text/plain": "6"
          },
          "metadata": {}
        }
      ],
      "execution_count": 14
    },
    {
      "cell_type": "code",
      "source": "data[\"title_status\"].unique()",
      "metadata": {
        "trusted": true
      },
      "outputs": [
        {
          "execution_count": 15,
          "output_type": "execute_result",
          "data": {
            "text/plain": "array(['clean', 'rebuilt', 'lien', nan, 'salvage', 'missing',\n       'parts only'], dtype=object)"
          },
          "metadata": {}
        }
      ],
      "execution_count": 15
    },
    {
      "cell_type": "code",
      "source": "data[\"manufacturer\"].unique()",
      "metadata": {
        "trusted": true
      },
      "outputs": [
        {
          "execution_count": 16,
          "output_type": "execute_result",
          "data": {
            "text/plain": "array(['gmc', 'chevrolet', 'toyota', 'ford', 'jeep', 'nissan', 'ram',\n       'mazda', 'cadillac', 'honda', 'dodge', 'lexus', 'jaguar', 'buick',\n       'chrysler', 'volvo', 'audi', 'infiniti', 'lincoln', 'alfa-romeo',\n       'subaru', nan, 'acura', 'hyundai', 'mercedes-benz', 'bmw',\n       'mitsubishi', 'volkswagen', 'porsche', 'kia', 'rover', 'ferrari',\n       'mini', 'pontiac', 'fiat', 'tesla', 'saturn', 'mercury',\n       'harley-davidson', 'datsun', 'aston-martin', 'land rover',\n       'morgan'], dtype=object)"
          },
          "metadata": {}
        }
      ],
      "execution_count": 16
    },
    {
      "cell_type": "code",
      "source": "### 7, Normalization",
      "metadata": {
        "trusted": true
      },
      "outputs": [],
      "execution_count": null
    },
    {
      "cell_type": "code",
      "source": "X=data[['year','odometer','fuel']]\nX_norm = X.copy()\nX_norm[['year']] = (X[['year']]-X[['year']].mean())/X[['year']].std()\nX_norm[['odometer']] = (X[['odometer']]-X[['odometer']].mean())/X[['odometer']].std()\ny=data['price']\n#y.shape\n#X_norm.shape",
      "metadata": {
        "trusted": true
      },
      "outputs": [],
      "execution_count": 17
    },
    {
      "cell_type": "markdown",
      "source": "### Modeling\n\nWith your (almost?) final dataset in hand, it is now time to build some models.  Here, you should build a number of different regression models with the price as the target.  In building your models, you should explore different parameters and be sure to cross-validate your findings.",
      "metadata": {}
    },
    {
      "cell_type": "code",
      "source": "from sklearn.model_selection import train_test_split\nX_train, X_test, y_train, y_test = train_test_split(X_norm, y, test_size=0.3, random_state=22)\nlr_year = LinearRegression(fit_intercept=True).fit(X_train[['year']],y_train)\nloss_year_train = mean_squared_error(lr_year.predict(X_train[['year']]),y_train)\nloss_year_test = mean_squared_error(lr_year.predict(X_test[['year']]),y_test)\nprint(loss_year_train/loss_year_test)",
      "metadata": {
        "trusted": true
      },
      "outputs": [
        {
          "name": "stdout",
          "output_type": "stream",
          "text": "0.7481701441600974\n"
        }
      ],
      "execution_count": 21
    },
    {
      "cell_type": "code",
      "source": "lr_odo = LinearRegression(fit_intercept=True).fit(X_train[['odometer']],y_train)\nloss_odo_train = mean_squared_error(lr_odo.predict(X_train[['odometer']]),y_train)\nloss_odo_test = mean_squared_error(lr_odo.predict(X_test[['odometer']]),y_test)\nprint(loss_odo_train/loss_odo_test)",
      "metadata": {
        "trusted": true
      },
      "outputs": [
        {
          "name": "stdout",
          "output_type": "stream",
          "text": "0.747916693301167\n"
        }
      ],
      "execution_count": 22
    },
    {
      "cell_type": "code",
      "source": "lr_fuel = LinearRegression(fit_intercept=True).fit(pd.get_dummies(X_train[['fuel']]),y_train)\nloss_fuel_train = mean_squared_error(lr_fuel.predict(pd.get_dummies(X_train[['fuel']])),y_train)\nloss_fuel_test = mean_squared_error(lr_fuel.predict(pd.get_dummies(X_test[['fuel']])),y_test)\nprint(loss_fuel_train/loss_fuel_test)",
      "metadata": {
        "trusted": true
      },
      "outputs": [
        {
          "name": "stdout",
          "output_type": "stream",
          "text": "0.7482528261107657\n"
        }
      ],
      "execution_count": 24
    },
    {
      "cell_type": "code",
      "source": "",
      "metadata": {},
      "outputs": [],
      "execution_count": null
    },
    {
      "cell_type": "markdown",
      "source": "### Evaluation\n\nWith some modeling accomplished, we aim to reflect on what we identify as a high-quality model and what we are able to learn from this.  We should review our business objective and explore how well we can provide meaningful insight into drivers of used car prices.  Your goal now is to distill your findings and determine whether the earlier phases need revisitation and adjustment or if you have information of value to bring back to your client.",
      "metadata": {}
    },
    {
      "cell_type": "code",
      "source": "lr_com = LinearRegression(fit_intercept=True).fit(pd.get_dummies(X_train[['year','odometer','fuel']]),y_train)\nloss_com_train = mean_squared_error(lr_com.predict(pd.get_dummies(X_train[['year','odometer','fuel']])),y_train)\nloss_com_test = mean_squared_error(lr_com.predict(pd.get_dummies(X_test[['year','odometer','fuel']])),y_test)\nprint(loss_com_train/loss_com_test)",
      "metadata": {
        "trusted": true
      },
      "outputs": [
        {
          "name": "stdout",
          "output_type": "stream",
          "text": "0.7478607852221243\n"
        }
      ],
      "execution_count": 25
    },
    {
      "cell_type": "code",
      "source": "",
      "metadata": {},
      "outputs": [],
      "execution_count": null
    },
    {
      "cell_type": "code",
      "source": "",
      "metadata": {},
      "outputs": [],
      "execution_count": null
    },
    {
      "cell_type": "code",
      "source": "",
      "metadata": {},
      "outputs": [],
      "execution_count": null
    },
    {
      "cell_type": "code",
      "source": "",
      "metadata": {},
      "outputs": [],
      "execution_count": null
    },
    {
      "cell_type": "code",
      "source": "",
      "metadata": {},
      "outputs": [],
      "execution_count": null
    },
    {
      "cell_type": "markdown",
      "source": "### Deployment\n\nNow that we've settled on our models and findings, it is time to deliver the information to the client.  You should organize your work as a basic report that details your primary findings.  Keep in mind that your audience is a group of used car dealers interested in fine-tuning their inventory.",
      "metadata": {}
    },
    {
      "cell_type": "code",
      "source": "#I analyzed the dataset to identify that the features, including odometer, year, and fuel type, \n#most strongly influence the target variable, car price. ",
      "metadata": {},
      "outputs": [],
      "execution_count": null
    },
    {
      "cell_type": "code",
      "source": "",
      "metadata": {},
      "outputs": [],
      "execution_count": null
    },
    {
      "cell_type": "code",
      "source": "",
      "metadata": {},
      "outputs": [],
      "execution_count": null
    },
    {
      "cell_type": "code",
      "source": "",
      "metadata": {},
      "outputs": [],
      "execution_count": null
    },
    {
      "cell_type": "code",
      "source": "",
      "metadata": {},
      "outputs": [],
      "execution_count": null
    },
    {
      "cell_type": "code",
      "source": "",
      "metadata": {},
      "outputs": [],
      "execution_count": null
    },
    {
      "cell_type": "code",
      "source": "",
      "metadata": {},
      "outputs": [],
      "execution_count": null
    }
  ]
}